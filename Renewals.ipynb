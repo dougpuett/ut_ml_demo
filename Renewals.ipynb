{
 "cells": [
  {
   "cell_type": "code",
   "execution_count": null,
   "metadata": {
    "collapsed": false
   },
   "outputs": [],
   "source": [
    "%matplotlib inline\n",
    "\n",
    "import pandas as pd\n",
    "import numpy as np\n",
    "import numpy.random\n",
    "import matplotlib as plt\n",
    "\n",
    "from sklearn.linear_model import  LogisticRegression"
   ]
  },
  {
   "cell_type": "code",
   "execution_count": null,
   "metadata": {
    "collapsed": false
   },
   "outputs": [],
   "source": [
    "df = pd.read_csv('retention_data_1.csv')\n",
    "print df.columns"
   ]
  },
  {
   "cell_type": "code",
   "execution_count": null,
   "metadata": {
    "collapsed": false
   },
   "outputs": [],
   "source": [
    "\n",
    "print df[['renew', 'deal_size']].describe()\n",
    "df['deal_size'].hist(bins=100)\n",
    "df.plot(kind='scatter', x='deal_size', y='renew')\n"
   ]
  },
  {
   "cell_type": "code",
   "execution_count": null,
   "metadata": {
    "collapsed": true
   },
   "outputs": [],
   "source": [
    "df['enterprise'] = df.co_size == 'Enterprise'\n",
    "df['midmarket'] = df.co_size == 'Mid-Market'\n",
    "predictors = df[['deal_size', 'account_id', 'enterprise', 'midmarket']]"
   ]
  },
  {
   "cell_type": "code",
   "execution_count": null,
   "metadata": {
    "collapsed": false
   },
   "outputs": [],
   "source": [
    "numpy.random.seed(1403)\n",
    "indices = np.arange(len(df))\n",
    "numpy.random.shuffle(indices)\n",
    "X = predictors.values[indices]\n",
    "y = np.concatenate(df[['renew']].values[indices])\n",
    "\n",
    "split_at = len(X) - len(X) // 3\n",
    "(X_train, X_val) = (X[:split_at], X[split_at:])\n",
    "(y_train, y_val) = (y[:split_at], y[split_at:])\n",
    "\n",
    "clf = LogisticRegression(C=10000000, fit_intercept=True, penalty='l1')\n",
    "clf.fit(X_train, y_train)\n",
    "clf.coef_"
   ]
  },
  {
   "cell_type": "code",
   "execution_count": null,
   "metadata": {
    "collapsed": false
   },
   "outputs": [],
   "source": [
    "predicted_values = clf.predict(X_val)\n",
    "from sklearn.metrics import accuracy_score\n",
    "print accuracy_score(predicted_values, y_val)"
   ]
  }
 ],
 "metadata": {
  "anaconda-cloud": {},
  "kernelspec": {
   "display_name": "Python [Root]",
   "language": "python",
   "name": "Python [Root]"
  },
  "language_info": {
   "codemirror_mode": {
    "name": "ipython",
    "version": 2
   },
   "file_extension": ".py",
   "mimetype": "text/x-python",
   "name": "python",
   "nbconvert_exporter": "python",
   "pygments_lexer": "ipython2",
   "version": "2.7.12"
  }
 },
 "nbformat": 4,
 "nbformat_minor": 0
}
